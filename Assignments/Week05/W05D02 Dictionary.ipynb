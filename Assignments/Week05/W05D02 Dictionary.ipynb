{
 "cells": [
  {
   "cell_type": "markdown",
   "id": "7243145c",
   "metadata": {},
   "source": [
    "## Dictionary"
   ]
  },
  {
   "cell_type": "markdown",
   "id": "31472220",
   "metadata": {},
   "source": [
    "## Assignment 01"
   ]
  },
  {
   "cell_type": "markdown",
   "id": "b6ffaf33",
   "metadata": {},
   "source": [
    "1. Make a dictionary with keys as subject name (physics, chemistry, etc.) and values as their marks. Print the highest marks scored"
   ]
  },
  {
   "cell_type": "code",
   "execution_count": 8,
   "id": "33fca93a",
   "metadata": {},
   "outputs": [
    {
     "data": {
      "text/plain": [
       "95"
      ]
     },
     "execution_count": 8,
     "metadata": {},
     "output_type": "execute_result"
    }
   ],
   "source": [
    "dic = {\n",
    "    \"Physics\":80,\n",
    "    \"Chemistry\":75,\n",
    "    \"Science\":95,\n",
    "    \"Social Science\":30\n",
    "}\n",
    "\n",
    "def Highest_mark(dic : dic)-> int:\n",
    "    high_mark = 0\n",
    "    for k,v in dic.items():\n",
    "        if v > high_mark:\n",
    "            high_mark = v\n",
    "    return high_mark\n",
    "\n",
    "Highest_mark(dic)"
   ]
  },
  {
   "cell_type": "markdown",
   "id": "6392c2a7",
   "metadata": {},
   "source": [
    "2. Make a dictionary with keys as subject name (physics, chemistry, etc.) and values as their marks. Print the name of the subject with highest marks scored."
   ]
  },
  {
   "cell_type": "code",
   "execution_count": 10,
   "id": "d30bc98b",
   "metadata": {},
   "outputs": [
    {
     "data": {
      "text/plain": [
       "'Science'"
      ]
     },
     "execution_count": 10,
     "metadata": {},
     "output_type": "execute_result"
    }
   ],
   "source": [
    "def High_mark_sub(dic : dic)-> str:\n",
    "    high_mark, high_sub = 0, ''\n",
    "    for k,v in dic.items():\n",
    "        if v > high_mark:\n",
    "            high_mark = v\n",
    "            high_sub = k\n",
    "    return high_sub\n",
    "\n",
    "High_mark_sub(dic)"
   ]
  },
  {
   "cell_type": "markdown",
   "id": "c2b727a4",
   "metadata": {},
   "source": [
    "3. Make a dictionary with keys as subject name (physics, chemistry, etc.) and values as their marks. Print the name of the subject which has marks more than passing marks (above 33)"
   ]
  },
  {
   "cell_type": "code",
   "execution_count": 12,
   "id": "e8ea822f",
   "metadata": {},
   "outputs": [
    {
     "name": "stdout",
     "output_type": "stream",
     "text": [
      "Physics 80\n",
      "Chemistry 75\n",
      "Science 95\n"
     ]
    }
   ],
   "source": [
    "def Passed_sub(dic : dic)-> str:\n",
    "    Passing_mark = 33\n",
    "    for k,v in dic.items():\n",
    "        if v > Passing_mark:\n",
    "            print(k,v)\n",
    "            \n",
    "Passed_sub(dic)"
   ]
  },
  {
   "cell_type": "markdown",
   "id": "edcb23a0",
   "metadata": {},
   "source": [
    "4. Write a Python program to generate and print a dictionary that contains a number (between 1 and n) in the form (x, x*x).\n",
    "\n",
    "\n",
    "`Sample Dictionary ( n = 5) :\n",
    "Expected Output : {1: 1, 2: 4, 3: 9, 4: 16, 5: 25}`"
   ]
  },
  {
   "cell_type": "code",
   "execution_count": 21,
   "id": "941015cc",
   "metadata": {},
   "outputs": [
    {
     "data": {
      "text/plain": [
       "{1: 1, 2: 4, 3: 9, 4: 16, 5: 25}"
      ]
     },
     "execution_count": 21,
     "metadata": {},
     "output_type": "execute_result"
    }
   ],
   "source": [
    "def dic_generate(num : int)-> dic:\n",
    "    dic = {}\n",
    "    for n in range(1,num+1):\n",
    "        dic[n] = n*n\n",
    "    return dic\n",
    "        \n",
    "dic_generate(5)"
   ]
  },
  {
   "cell_type": "markdown",
   "id": "05c51a70",
   "metadata": {},
   "source": [
    "5. Write a Python program to check if a dictionary is empty or not"
   ]
  },
  {
   "cell_type": "code",
   "execution_count": 24,
   "id": "5b87d94c",
   "metadata": {},
   "outputs": [
    {
     "name": "stdout",
     "output_type": "stream",
     "text": [
      "True\n",
      "False\n"
     ]
    }
   ],
   "source": [
    "def empty_dic(dic : dic)->bool:\n",
    "    if len(dic)==0:\n",
    "        return True\n",
    "    else:\n",
    "        return False\n",
    "\n",
    "dic_01 = {}\n",
    "print(empty_dic(dic_01))\n",
    "\n",
    "dic_02 = {1:\"Akshay\", 2:\"Kore\"}\n",
    "print(empty_dic(dic_02))"
   ]
  },
  {
   "cell_type": "markdown",
   "id": "b52866bb",
   "metadata": {},
   "source": [
    "6. Python program to find the size of a Dictionary. Basically print how many total key-value pair are there.\n"
   ]
  },
  {
   "cell_type": "code",
   "execution_count": 27,
   "id": "f18768a4",
   "metadata": {},
   "outputs": [
    {
     "name": "stdout",
     "output_type": "stream",
     "text": [
      "0\n",
      "2\n"
     ]
    }
   ],
   "source": [
    "def dic_size(dic : dic)->int:\n",
    "    count = 0\n",
    "    for k in dic.keys():\n",
    "        count+=1\n",
    "    return count\n",
    "\n",
    "dic_01 = {}\n",
    "print(dic_size(dic_01))\n",
    "\n",
    "dic_02 = {1:\"Akshay\", 2:\"Kore\"}\n",
    "print(dic_size(dic_02))"
   ]
  },
  {
   "cell_type": "markdown",
   "id": "4b39337f",
   "metadata": {},
   "source": [
    "## Assignment 02"
   ]
  },
  {
   "cell_type": "markdown",
   "id": "a7d36228",
   "metadata": {},
   "source": [
    "1. Write a function that takes a dictionary and a key, and returns True if the key is found in the dictionary, otherwise False"
   ]
  },
  {
   "cell_type": "code",
   "execution_count": 28,
   "id": "54c903e3",
   "metadata": {},
   "outputs": [
    {
     "data": {
      "text/plain": [
       "True"
      ]
     },
     "execution_count": 28,
     "metadata": {},
     "output_type": "execute_result"
    }
   ],
   "source": [
    "def keyInDictionaryCheck(dic:dic, key:int)->bool:\n",
    "    for k in dic.keys():\n",
    "        if k == key:\n",
    "            return True\n",
    "        \n",
    "dic = {1:'Akshay',2:\"Amar\",3:\"Adarsh\"}  \n",
    "key = 2\n",
    "keyInDictionaryCheck(dic,key)"
   ]
  },
  {
   "cell_type": "markdown",
   "id": "778ab2d7",
   "metadata": {},
   "source": [
    "2. Given two dictionaries, write a function to merge them into a new dictionary. If there is any overlap of keys, the value from the second dictionary should overwrite the one from the first dictionary.\n",
    "\n",
    "\n",
    "`Dictionary 1:\n",
    "{'apple': 3, 'banana': 5, 'cherry': 7}\n",
    "Dictionary 2:\n",
    "{'banana': 8, 'orange': 10, 'apple': 9}\n",
    "Expected Output:\n",
    "{'apple': 9, 'banana': 8, 'cherry': 7, 'orange': 10}`"
   ]
  },
  {
   "cell_type": "code",
   "execution_count": 31,
   "id": "dca33f20",
   "metadata": {},
   "outputs": [
    {
     "data": {
      "text/plain": [
       "{'apple': 9, 'banana': 8, 'cherry': 7, 'orange': 10}"
      ]
     },
     "execution_count": 31,
     "metadata": {},
     "output_type": "execute_result"
    }
   ],
   "source": [
    "def mergeDictionary(dic01:dic, dic02:dic)->dic:\n",
    "    mergedDic = dic01\n",
    "    for k,v in dic02.items():\n",
    "        mergedDic[k] = v\n",
    "    return mergedDic\n",
    "        \n",
    "Dictionary01 = {'apple': 3, 'banana': 5, 'cherry': 7}\n",
    "Dictionary02 = {'banana': 8, 'orange': 10, 'apple': 9}\n",
    "\n",
    "mergeDictionary(Dictionary01, Dictionary02)"
   ]
  },
  {
   "cell_type": "markdown",
   "id": "7e60f865",
   "metadata": {},
   "source": [
    "3. Write a function that updates the values of a dictionary by multiplying them by a given factor only if the value is an integer."
   ]
  },
  {
   "cell_type": "code",
   "execution_count": 38,
   "id": "9456b093",
   "metadata": {},
   "outputs": [
    {
     "name": "stdout",
     "output_type": "stream",
     "text": [
      "Enter the factor2\n"
     ]
    },
    {
     "data": {
      "text/plain": [
       "{'a': 6, 'b': 'hello', 'c': 7.5, 'd': 20}"
      ]
     },
     "execution_count": 38,
     "metadata": {},
     "output_type": "execute_result"
    }
   ],
   "source": [
    "def updateDic(dic:dic, factor:int)->dic:\n",
    "    res = dic\n",
    "    for k,v in res.items():\n",
    "        if isinstance(v,int):\n",
    "            res[k] = v*factor\n",
    "            \n",
    "    return res\n",
    "    \n",
    "\n",
    "dic = {\n",
    "    \"a\" : 3,\n",
    "    \"b\" : \"hello\",\n",
    "    \"c\" : 7.5,\n",
    "    \"d\" : 10,\n",
    "}\n",
    "\n",
    "factor = int(input(\"Enter the factor\"))\n",
    "\n",
    "updateDic(dic, factor)"
   ]
  },
  {
   "cell_type": "markdown",
   "id": "eb56b269",
   "metadata": {},
   "source": [
    "4. Write a Python script to print a dictionary where the keys are numbers between 1 and 15 (both included) and the values are squares of the keys"
   ]
  },
  {
   "cell_type": "code",
   "execution_count": 40,
   "id": "715b1f8c",
   "metadata": {},
   "outputs": [
    {
     "data": {
      "text/plain": [
       "{1: 1,\n",
       " 2: 4,\n",
       " 3: 9,\n",
       " 4: 16,\n",
       " 5: 25,\n",
       " 6: 36,\n",
       " 7: 49,\n",
       " 8: 64,\n",
       " 9: 81,\n",
       " 10: 100,\n",
       " 11: 121,\n",
       " 12: 144,\n",
       " 13: 169,\n",
       " 14: 196,\n",
       " 15: 225}"
      ]
     },
     "execution_count": 40,
     "metadata": {},
     "output_type": "execute_result"
    }
   ],
   "source": [
    "def dicGenerator(num:int)->dic:\n",
    "    dic = {}\n",
    "    for i in range(1,num+1):\n",
    "        dic[i] = i*i\n",
    "    return dic\n",
    "dicGenerator(15)"
   ]
  },
  {
   "cell_type": "markdown",
   "id": "059af7fd",
   "metadata": {},
   "source": [
    "5. Given a dictionary, write a function that returns a new dictionary containing only the keys that have values of type str"
   ]
  },
  {
   "cell_type": "code",
   "execution_count": 42,
   "id": "e1d34d93",
   "metadata": {},
   "outputs": [
    {
     "data": {
      "text/plain": [
       "{'b': 'hello', 'e': 'World'}"
      ]
     },
     "execution_count": 42,
     "metadata": {},
     "output_type": "execute_result"
    }
   ],
   "source": [
    "def stringDictionary(dic:dic)->dic:\n",
    "    newRes = {}\n",
    "    for k,v in dic.items():\n",
    "        if isinstance(v, str):\n",
    "            newRes[k] = v\n",
    "    return newRes\n",
    "\n",
    "dic = {\n",
    "    \"a\" : 3,\n",
    "    \"b\" : \"hello\",\n",
    "    \"c\" : 7.5,\n",
    "    \"d\" : 10,\n",
    "    \"e\" : \"World\"\n",
    "}\n",
    "\n",
    "stringDictionary(dic)"
   ]
  },
  {
   "cell_type": "markdown",
   "id": "855ea9df",
   "metadata": {},
   "source": [
    "6. Ask a string from user. Store the frequency of each character in the dictionary. Then print the character with the maximum frequency\n",
    "\n",
    "\n",
    "`Input:\n",
    "Please enter a string: hello world\n",
    "Output:\n",
    "The character with the maximum frequency is 'l'`"
   ]
  },
  {
   "cell_type": "code",
   "execution_count": 50,
   "id": "784f3e72",
   "metadata": {},
   "outputs": [
    {
     "data": {
      "text/plain": [
       "'l'"
      ]
     },
     "execution_count": 50,
     "metadata": {},
     "output_type": "execute_result"
    }
   ],
   "source": [
    "def maxFreqChar(string:str):\n",
    "    dic = {}\n",
    "    for char in string:\n",
    "        dic[char] = dic.get(char, 0)+1\n",
    "    \n",
    "    return max(dic, key=dic.get)\n",
    "\n",
    "maxFreqChar(\"hello world\")"
   ]
  },
  {
   "cell_type": "markdown",
   "id": "7ed8682f",
   "metadata": {},
   "source": [
    "7. Write a Python function that takes a dictionary as input where the values are lists of integers. The function should return a new dictionary where the values are lists containing only the even integers from the original lists."
   ]
  },
  {
   "cell_type": "code",
   "execution_count": 68,
   "id": "3eed1534",
   "metadata": {},
   "outputs": [
    {
     "name": "stdout",
     "output_type": "stream",
     "text": [
      "\n",
      "\n"
     ]
    },
    {
     "data": {
      "text/plain": [
       "{'A': [2, 4], 'B': [6, 8]}"
      ]
     },
     "execution_count": 68,
     "metadata": {},
     "output_type": "execute_result"
    }
   ],
   "source": [
    "from typing import Dict\n",
    "\n",
    "def evenDictionaryElement(dic:Dict[str, list[int]])->Dict[str, list[int]]:\n",
    "    res = {}\n",
    "    for k,v in dic.items():\n",
    "        res[k]=[i for i in v if i%2==0]\n",
    "        print()\n",
    "    return res\n",
    "\n",
    "dictionary = {\n",
    "    \"A\":[1,2,3,4,5],\n",
    "    \"B\":[5,6,7,8,9]\n",
    "}\n",
    "\n",
    "evenDictionaryElement(dictionary)"
   ]
  },
  {
   "cell_type": "markdown",
   "id": "63fd83db",
   "metadata": {},
   "source": [
    "8. Write a Python program to combine two dictionary by adding values for common keys.\n",
    "\n",
    "\n",
    "`d1 = {'a': 100, 'b': 200, 'c':300}\n",
    "d2 = {'a': 300, 'b': 200, 'd':400}\n",
    "Sample output: {'a': 400, 'b': 400, 'd': 400, 'c': 300}`"
   ]
  },
  {
   "cell_type": "code",
   "execution_count": 72,
   "id": "3d20ba26",
   "metadata": {},
   "outputs": [
    {
     "data": {
      "text/plain": [
       "{'a': 400, 'b': 400, 'c': 300, 'd': 400}"
      ]
     },
     "execution_count": 72,
     "metadata": {},
     "output_type": "execute_result"
    }
   ],
   "source": [
    "def combineDictionary(dic01:dic, dic02:dic)->dic:\n",
    "    merged_dic = dic01\n",
    "    for k,v in dic02.items():\n",
    "        if k in merged_dic:\n",
    "            merged_dic[k]+=v\n",
    "        else:\n",
    "            merged_dic[k]=v\n",
    "    return merged_dic\n",
    " \n",
    "combineDictionary({'a': 100, 'b': 200, 'c':300}, {'a': 300, 'b': 200, 'd':400})"
   ]
  },
  {
   "cell_type": "markdown",
   "id": "0dea9065",
   "metadata": {},
   "source": [
    "9. Write a Python program to create a dictionary of keys x, y, and z where each key has as value a list from 11-20, 21-30, and 31-40 respectively. Access the fifth value of each key from the dictionary\n",
    "\n",
    "\n",
    "`{'x': [11, 12, 13, 14, 15, 16, 17, 18, 19],\n",
    "'y': [21, 22, 23, 24, 25, 26, 27, 28, 29],\n",
    "'z': [31, 32, 33, 34, 35, 36, 37, 38, 39]}\n",
    "Output\n",
    "15\n",
    "25\n",
    "35`"
   ]
  },
  {
   "cell_type": "code",
   "execution_count": 78,
   "id": "5ef670c6",
   "metadata": {},
   "outputs": [
    {
     "name": "stdout",
     "output_type": "stream",
     "text": [
      "15\n",
      "25\n",
      "35\n"
     ]
    }
   ],
   "source": [
    "def fifthValueDictionary(dic:dic,position:int):\n",
    "    for k,v in dic.items():\n",
    "        print(dic[k][position-1])\n",
    "      \n",
    "dic = {'x': [11, 12, 13, 14, 15, 16, 17, 18, 19],\n",
    "'y': [21, 22, 23, 24, 25, 26, 27, 28, 29],\n",
    "'z': [31, 32, 33, 34, 35, 36, 37, 38, 39]}  \n",
    "\n",
    "fifthValueDictionary(dic,5)"
   ]
  },
  {
   "cell_type": "markdown",
   "id": "7c20e1bb",
   "metadata": {},
   "source": [
    "10. Store name as a Key, and 5 marks in a List as a value in dictionary. Store details of at least 5 students. Print the total marks with percentage of each and every student"
   ]
  },
  {
   "cell_type": "code",
   "execution_count": 83,
   "id": "bbbf6e3d",
   "metadata": {},
   "outputs": [
    {
     "name": "stdout",
     "output_type": "stream",
     "text": [
      "Akshay's total marks 378 and percentage 75.6\n",
      "Adarsh's total marks 390 and percentage 78.0\n",
      "ROhan's total marks 260 and percentage 52.0\n",
      "Vinayak's total marks 291 and percentage 58.2\n",
      "Amar's total marks 397 and percentage 79.4\n"
     ]
    }
   ],
   "source": [
    "def studentMarks(dic:dic):\n",
    "    for k,v in dic.items():\n",
    "        print(f\"{k}'s total marks {sum(v)} and percentage {(sum(v)*100)/500}\")\n",
    "\n",
    "dic = {\n",
    "    \"Akshay\":[45,65,78,90,100],\n",
    "    \"Adarsh\":[89,78,90,56,77],\n",
    "    \"ROhan\":[36,56,78,55,35],\n",
    "    \"Vinayak\":[45,45,67,89,45],\n",
    "    \"Amar\":[90,99,45,96,67]\n",
    "}\n",
    "\n",
    "studentMarks(dic)"
   ]
  },
  {
   "cell_type": "markdown",
   "id": "51eb810a",
   "metadata": {},
   "source": [
    "11. Given a dictionary with key-value pairs, remove all the keys with values greater than K, including mixed values.\n",
    "\n",
    "\n",
    "`Input : test_dict = {‘Gfg’ : 3, ‘is’ : 7, ‘best’ : 10, ‘for’ : 6, ‘xyzx’ : ‘CS’}, K = 7\n",
    "Output : {‘Gfg’ : 3, ‘for’ : 6, ‘xyzx’ : ‘CS’}\n",
    "Explanation : All values greater than K are removed. Mixed value is\n",
    "retained.\n",
    "Input : test_dict = {‘Gfg’ : 3, ‘is’ : 7, ‘best’ : 10, ‘for’ : 6, ‘qqqq’ : ‘CS’}, K = 1\n",
    "Output : {‘qqqq’ : ‘CS’}\n",
    "Explanation : Only Mixed value is retained`"
   ]
  },
  {
   "cell_type": "code",
   "execution_count": 2,
   "id": "1f6c125b",
   "metadata": {},
   "outputs": [
    {
     "name": "stdout",
     "output_type": "stream",
     "text": [
      "{'Gfg': 3, 'is': 7, 'for': 6, 'xyzx': 'CS'}\n",
      "{'qqqq': 'CS'}\n"
     ]
    }
   ],
   "source": [
    "from typing import Dict\n",
    "\n",
    "\n",
    "def removeKeys(dictionary: Dict, K: int):\n",
    "    dictt = dictionary.copy()\n",
    "\n",
    "    keys_to_remove = []\n",
    "    for key, value in dictt.items():\n",
    "        if type(value) == int and value > K:\n",
    "            keys_to_remove.append(key)\n",
    "\n",
    "    for key in keys_to_remove:\n",
    "        dictt.pop(key)\n",
    "\n",
    "    return dictt\n",
    "\n",
    "\n",
    "test_dict1 = {\"Gfg\": 3, \"is\": 7, \"best\": 10, \"for\": 6, \"xyzx\": \"CS\"}\n",
    "test_dict2 = {\"Gfg\": 3, \"is\": 7, \"best\": 10, \"for\": 6, \"qqqq\": \"CS\"}\n",
    "K1 = 7\n",
    "K2 = 1\n",
    "\n",
    "output1 = removeKeys(test_dict1, K1)\n",
    "output2 = removeKeys(test_dict2, K2)\n",
    "\n",
    "print(output1)\n",
    "print(output2)"
   ]
  },
  {
   "cell_type": "code",
   "execution_count": null,
   "id": "bfd8826a",
   "metadata": {},
   "outputs": [],
   "source": []
  }
 ],
 "metadata": {
  "kernelspec": {
   "display_name": "Python 3 (ipykernel)",
   "language": "python",
   "name": "python3"
  },
  "language_info": {
   "codemirror_mode": {
    "name": "ipython",
    "version": 3
   },
   "file_extension": ".py",
   "mimetype": "text/x-python",
   "name": "python",
   "nbconvert_exporter": "python",
   "pygments_lexer": "ipython3",
   "version": "3.9.13"
  }
 },
 "nbformat": 4,
 "nbformat_minor": 5
}
