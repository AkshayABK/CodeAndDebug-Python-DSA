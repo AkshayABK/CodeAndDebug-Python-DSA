{
 "cells": [
  {
   "cell_type": "markdown",
   "id": "e6cf7891",
   "metadata": {},
   "source": [
    "## Dictionary"
   ]
  },
  {
   "cell_type": "markdown",
   "id": "9dc0df09",
   "metadata": {},
   "source": [
    "1. Make a dictionary with keys as subject name (physics, chemistry, etc.) and values as their marks. Print the highest marks scored"
   ]
  },
  {
   "cell_type": "code",
   "execution_count": 8,
   "id": "43218427",
   "metadata": {},
   "outputs": [
    {
     "data": {
      "text/plain": [
       "95"
      ]
     },
     "execution_count": 8,
     "metadata": {},
     "output_type": "execute_result"
    }
   ],
   "source": [
    "dic = {\n",
    "    \"Physics\":80,\n",
    "    \"Chemistry\":75,\n",
    "    \"Science\":95,\n",
    "    \"Social Science\":30\n",
    "}\n",
    "\n",
    "def Highest_mark(dic : dic)-> int:\n",
    "    high_mark = 0\n",
    "    for k,v in dic.items():\n",
    "        if v > high_mark:\n",
    "            high_mark = v\n",
    "    return high_mark\n",
    "\n",
    "Highest_mark(dic)"
   ]
  },
  {
   "cell_type": "markdown",
   "id": "426a700e",
   "metadata": {},
   "source": [
    "2. Make a dictionary with keys as subject name (physics, chemistry, etc.) and values as their marks. Print the name of the subject with highest marks scored."
   ]
  },
  {
   "cell_type": "code",
   "execution_count": 10,
   "id": "b896937b",
   "metadata": {},
   "outputs": [
    {
     "data": {
      "text/plain": [
       "'Science'"
      ]
     },
     "execution_count": 10,
     "metadata": {},
     "output_type": "execute_result"
    }
   ],
   "source": [
    "def High_mark_sub(dic : dic)-> str:\n",
    "    high_mark, high_sub = 0, ''\n",
    "    for k,v in dic.items():\n",
    "        if v > high_mark:\n",
    "            high_mark = v\n",
    "            high_sub = k\n",
    "    return high_sub\n",
    "\n",
    "High_mark_sub(dic)"
   ]
  },
  {
   "cell_type": "markdown",
   "id": "67491039",
   "metadata": {},
   "source": [
    "3. Make a dictionary with keys as subject name (physics, chemistry, etc.) and values as their marks. Print the name of the subject which has marks more than passing marks (above 33)"
   ]
  },
  {
   "cell_type": "code",
   "execution_count": 12,
   "id": "ff31cd00",
   "metadata": {},
   "outputs": [
    {
     "name": "stdout",
     "output_type": "stream",
     "text": [
      "Physics 80\n",
      "Chemistry 75\n",
      "Science 95\n"
     ]
    }
   ],
   "source": [
    "def Passed_sub(dic : dic)-> str:\n",
    "    Passing_mark = 33\n",
    "    for k,v in dic.items():\n",
    "        if v > Passing_mark:\n",
    "            print(k,v)\n",
    "            \n",
    "Passed_sub(dic)"
   ]
  },
  {
   "cell_type": "markdown",
   "id": "39fac565",
   "metadata": {},
   "source": [
    "4. Write a Python program to generate and print a dictionary that contains a number (between 1 and n) in the form (x, x*x).\n",
    "\n",
    "\n",
    "`Sample Dictionary ( n = 5) :\n",
    "Expected Output : {1: 1, 2: 4, 3: 9, 4: 16, 5: 25}`"
   ]
  },
  {
   "cell_type": "code",
   "execution_count": 21,
   "id": "f927fbb1",
   "metadata": {},
   "outputs": [
    {
     "data": {
      "text/plain": [
       "{1: 1, 2: 4, 3: 9, 4: 16, 5: 25}"
      ]
     },
     "execution_count": 21,
     "metadata": {},
     "output_type": "execute_result"
    }
   ],
   "source": [
    "def dic_generate(num : int)-> dic:\n",
    "    dic = {}\n",
    "    for n in range(1,num+1):\n",
    "        dic[n] = n*n\n",
    "    return dic\n",
    "        \n",
    "dic_generate(5)"
   ]
  },
  {
   "cell_type": "markdown",
   "id": "d55c70a6",
   "metadata": {},
   "source": [
    "5. Write a Python program to check if a dictionary is empty or not"
   ]
  },
  {
   "cell_type": "code",
   "execution_count": 24,
   "id": "d6c024b5",
   "metadata": {},
   "outputs": [
    {
     "name": "stdout",
     "output_type": "stream",
     "text": [
      "True\n",
      "False\n"
     ]
    }
   ],
   "source": [
    "def empty_dic(dic : dic)->bool:\n",
    "    if len(dic)==0:\n",
    "        return True\n",
    "    else:\n",
    "        return False\n",
    "\n",
    "dic_01 = {}\n",
    "print(empty_dic(dic_01))\n",
    "\n",
    "dic_02 = {1:\"Akshay\", 2:\"Kore\"}\n",
    "print(empty_dic(dic_02))"
   ]
  },
  {
   "cell_type": "markdown",
   "id": "c32dbfb9",
   "metadata": {},
   "source": [
    "6. Python program to find the size of a Dictionary. Basically print how many total key-value pair are there.\n"
   ]
  },
  {
   "cell_type": "code",
   "execution_count": 27,
   "id": "a1afae55",
   "metadata": {},
   "outputs": [
    {
     "name": "stdout",
     "output_type": "stream",
     "text": [
      "0\n",
      "2\n"
     ]
    }
   ],
   "source": [
    "def dic_size(dic : dic)->int:\n",
    "    count = 0\n",
    "    for k in dic.keys():\n",
    "        count+=1\n",
    "    return count\n",
    "\n",
    "dic_01 = {}\n",
    "print(dic_size(dic_01))\n",
    "\n",
    "dic_02 = {1:\"Akshay\", 2:\"Kore\"}\n",
    "print(dic_size(dic_02))"
   ]
  }
 ],
 "metadata": {
  "kernelspec": {
   "display_name": "Python 3 (ipykernel)",
   "language": "python",
   "name": "python3"
  },
  "language_info": {
   "codemirror_mode": {
    "name": "ipython",
    "version": 3
   },
   "file_extension": ".py",
   "mimetype": "text/x-python",
   "name": "python",
   "nbconvert_exporter": "python",
   "pygments_lexer": "ipython3",
   "version": "3.9.13"
  }
 },
 "nbformat": 4,
 "nbformat_minor": 5
}
