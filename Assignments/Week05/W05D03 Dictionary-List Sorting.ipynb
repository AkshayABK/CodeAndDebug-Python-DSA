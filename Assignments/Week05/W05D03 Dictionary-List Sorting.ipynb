{
 "cells": [
  {
   "cell_type": "markdown",
   "id": "23e9bfd2",
   "metadata": {},
   "source": [
    "## Dictionary & List Sorting"
   ]
  },
  {
   "cell_type": "markdown",
   "id": "4b789f74",
   "metadata": {},
   "source": [
    "1. Here’s a students data and their marks.\n",
    "\n",
    "        Display the name of student and total marks in ascending order.\n",
    "        OUTPUT:\n",
    "        Bob has scored 400\n",
    "        Diana has scored 402\n",
    "        Frank has scored 422\n",
    "        Eva has scored 442\n",
    "        Tina has scored 443\n",
    "        Alice has scored 444\n",
    "        Charlie has scored 451"
   ]
  },
  {
   "cell_type": "code",
   "execution_count": 62,
   "id": "a57e0ba6",
   "metadata": {},
   "outputs": [
    {
     "name": "stdout",
     "output_type": "stream",
     "text": [
      "Bob has scored 400\n",
      "Diana has scored 402\n",
      "Frank has scored 422\n",
      "Eva has scored 442\n",
      "Tina has scored 443\n",
      "Alice has scored 444\n",
      "Charlie has scored 451\n"
     ]
    }
   ],
   "source": [
    "student_data = {\n",
    "\"Alice\": [85, 90, 88, 92, 89],\n",
    "\"Bob\": [78, 82, 79, 81, 80],\n",
    "\"Charlie\": [92, 95, 88, 85, 91],\n",
    "\"Diana\": [76, 80, 79, 82, 85],\n",
    "\"Eva\": [88, 92, 85, 90, 87],\n",
    "\"Frank\": [83, 85, 80, 86, 88],\n",
    "\"Tina\": [90, 87, 92, 88, 86],\n",
    "}\n",
    "\n",
    "student_data_temp = {}\n",
    "\n",
    "for k,v in student_data.items():\n",
    "    student_data_temp[k] = sum(v)\n",
    "   \n",
    "for k, v in dict(sorted(student_data_temp.items(), key=lambda x : x[1], reverse = False)).items(): \n",
    "    print(f\"{k} has scored {v}\")"
   ]
  },
  {
   "cell_type": "markdown",
   "id": "c6c1b955",
   "metadata": {},
   "source": [
    "2. Generate the outcome like this.\n",
    "\n",
    "        Liam has scored 402\n",
    "        Noah has scored 422\n",
    "        Max has scored 429\n",
    "        Ella has scored 435\n",
    "        Ava has scored 442\n",
    "        Emma has scored 443\n",
    "        Sophia has scored 451"
   ]
  },
  {
   "cell_type": "code",
   "execution_count": 82,
   "id": "f4525222",
   "metadata": {},
   "outputs": [
    {
     "name": "stdout",
     "output_type": "stream",
     "text": [
      "Liam has scored 402\n",
      "Noah has scored 422\n",
      "Max has scored 429\n",
      "Ella has scored 435\n",
      "Ava has scored 442\n",
      "Emma has scored 443\n",
      "Sophia has scored 451\n"
     ]
    }
   ],
   "source": [
    "student_data = {\n",
    "    \"Ella\": {\"age\": 20, \"marks\": [85, 78, 92, 89, 91]},\n",
    "    \"Max\": {\"age\": 22, \"marks\": [79, 85, 88, 90, 87]},\n",
    "    \"Sophia\": {\"age\": 21, \"marks\": [92, 95, 88, 85, 91]},\n",
    "    \"Liam\": {\"age\": 23, \"marks\": [76, 80, 79, 82, 85]},\n",
    "    \"Ava\": {\"age\": 20, \"marks\": [88, 92, 85, 90, 87]},\n",
    "    \"Noah\": {\"age\": 22, \"marks\": [83, 85, 80, 86, 88]},\n",
    "    \"Emma\": {\"age\": 21, \"marks\": [90, 87, 92, 88, 86]},\n",
    "    }\n",
    "\n",
    "student_data_temp = {}\n",
    "for k,v in student_data.items():\n",
    "    student_data_temp[k] = sum(v['marks'])\n",
    "    \n",
    "dic = sorted(student_data_temp.items(), key=lambda x:x[1], reverse=False)\n",
    "\n",
    "for k,v in dic:\n",
    "    print(f\"{k} has scored {v}\")"
   ]
  },
  {
   "cell_type": "markdown",
   "id": "3e92e908",
   "metadata": {},
   "source": [
    "4. OUTPUT\n",
    "        Liam has scored 402\n",
    "        Noah has scored 422\n",
    "        Max has scored 429\n",
    "        Olivia has scored 429\n",
    "        Ava has scored 442\n",
    "        Emma has scored 443\n",
    "        Sophia has scored 451"
   ]
  },
  {
   "cell_type": "code",
   "execution_count": 83,
   "id": "4253cb49",
   "metadata": {},
   "outputs": [
    {
     "name": "stdout",
     "output_type": "stream",
     "text": [
      "Liam has scored 402\n",
      "Noah has scored 422\n",
      "Max has scored 429\n",
      "Olivia has scored 429\n",
      "Ava has scored 442\n",
      "Emma has scored 443\n",
      "Sophia has scored 451\n"
     ]
    }
   ],
   "source": [
    "student_data = [\n",
    "{\"Sophia\": {\"age\": 21, \"marks\": [92, 95, 88, 85, 91]}},\n",
    "{\"Max\": {\"age\": 22, \"marks\": [79, 85, 88, 90, 87]}},\n",
    "{\"Liam\": {\"age\": 23, \"marks\": [76, 80, 79, 82, 85]}},\n",
    "{\"Ava\": {\"age\": 20, \"marks\": [88, 92, 85, 90, 87]}},\n",
    "{\"Noah\": {\"age\": 22, \"marks\": [83, 85, 80, 86, 88]}},\n",
    "{\"Emma\": {\"age\": 21, \"marks\": [90, 87, 92, 88, 86]}},\n",
    "{\"Olivia\": {\"age\": 24, \"marks\": [82, 86, 90, 87, 84]}},\n",
    "]\n",
    "\n",
    "student_data_temp = {}\n",
    "for i in student_data:\n",
    "    for k,v in i.items():\n",
    "        student_data_temp[k] = sum(v['marks'])\n",
    "        \n",
    "dic = sorted(student_data_temp.items(), key=lambda x:x[1], reverse=False)\n",
    "\n",
    "for k, v in dic:\n",
    "    print(f\"{k} has scored {v}\")"
   ]
  },
  {
   "cell_type": "markdown",
   "id": "1b92d2a7",
   "metadata": {},
   "source": [
    "5. Here’s a student data. The first 3 elements are marks of student. Sort this list and print it.\n",
    "        student_data = [\n",
    "        [78, 92, 85, \"Alice\"],\n",
    "        [82, 79, 81, \"Bob\"],\n",
    "        [92, 88, 85, \"Charlie\"],\n",
    "        [80, 79, 82, \"Diana\"],\n",
    "        [92, 85, 90, \"Eva\"],\n",
    "        [85, 80, 86, \"Frank\"],\n",
    "        [87, 92, 88, \"Gina\"]\n",
    "        ]\n",
    "        OUTPUT\n",
    "        Diana has scored 241\n",
    "        Bob has scored 242\n",
    "        Frank has scored 251\n",
    "        Alice has scored 255\n",
    "        Charlie has scored 265\n",
    "        Eva has scored 267\n",
    "        Gina has scored 267"
   ]
  },
  {
   "cell_type": "code",
   "execution_count": 103,
   "id": "cbca39c4",
   "metadata": {},
   "outputs": [
    {
     "name": "stdout",
     "output_type": "stream",
     "text": [
      "Diana has scored 241\n",
      "Bob has scored 242\n",
      "Frank has scored 251\n",
      "Alice has scored 255\n",
      "Charlie has scored 265\n",
      "Eva has scored 267\n",
      "Gina has scored 267\n"
     ]
    }
   ],
   "source": [
    " student_data = [\n",
    " [78, 92, 85, \"Alice\"],\n",
    " [82, 79, 81, \"Bob\"],\n",
    " [92, 88, 85, \"Charlie\"],\n",
    " [80, 79, 82, \"Diana\"],\n",
    " [92, 85, 90, \"Eva\"],\n",
    " [85, 80, 86, \"Frank\"],\n",
    " [87, 92, 88, \"Gina\"]\n",
    " ]\n",
    "  \n",
    "dic = {}\n",
    "for ls in student_data:\n",
    "    dic[ls[-1]] = sum(ls[:-1])\n",
    "    \n",
    "res_dic = sorted(dic.items(), key=lambda x: x[1], reverse=False)\n",
    "\n",
    "for k,v in res_dic:\n",
    "    print(f\"{k} has scored {v}\")"
   ]
  },
  {
   "cell_type": "code",
   "execution_count": null,
   "id": "a1f287bc",
   "metadata": {},
   "outputs": [],
   "source": []
  }
 ],
 "metadata": {
  "kernelspec": {
   "display_name": "Python 3 (ipykernel)",
   "language": "python",
   "name": "python3"
  },
  "language_info": {
   "codemirror_mode": {
    "name": "ipython",
    "version": 3
   },
   "file_extension": ".py",
   "mimetype": "text/x-python",
   "name": "python",
   "nbconvert_exporter": "python",
   "pygments_lexer": "ipython3",
   "version": "3.9.13"
  }
 },
 "nbformat": 4,
 "nbformat_minor": 5
}
