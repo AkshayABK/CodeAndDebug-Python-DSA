{
 "cells": [
  {
   "cell_type": "markdown",
   "id": "236fd81e",
   "metadata": {},
   "source": [
    "# Spliting & Joining"
   ]
  },
  {
   "cell_type": "markdown",
   "id": "7608936e",
   "metadata": {},
   "source": [
    "1. Ask a string from user. If the length of string is odd, then change all the capital letters to small and vice versa, but if the length of string is even, reverse the string. Do this using a function and return the output.\n",
    "\n",
    "- input: \n",
    "`'AEroPLane'`\n",
    "\n",
    "- output:\n",
    "`'aeROplANE'`\n",
    "\n",
    "\n",
    "- input: \n",
    "`'AEroPLanes'`\n",
    "\n",
    "- output:\n",
    "`'senaLPorEA'`"
   ]
  },
  {
   "cell_type": "code",
   "execution_count": 28,
   "id": "ed154da2",
   "metadata": {},
   "outputs": [
    {
     "name": "stdout",
     "output_type": "stream",
     "text": [
      "aeROplANE\n",
      "senaLPorEA\n"
     ]
    }
   ],
   "source": [
    "def changeString(a : str)->str:\n",
    "    size = len(a)\n",
    "    if size%2!=0:  \n",
    "        return \"\".join(ch.swapcase() for ch in a) \n",
    "    else:\n",
    "        return a[::-1] \n",
    "    \n",
    "print(changeString('AEroPLane'))\n",
    "\n",
    "print(changeString('AEroPLanes'))\n"
   ]
  },
  {
   "cell_type": "markdown",
   "id": "f195a65b",
   "metadata": {},
   "source": [
    "2. Write a function which accepts a String as a parameter and return the list of words.\n",
    "\n",
    "- input: \n",
    "`'Python is great'`\n",
    "\n",
    "- output:\n",
    "`['Python', 'is, 'great']`"
   ]
  },
  {
   "cell_type": "code",
   "execution_count": 38,
   "id": "e0904eca",
   "metadata": {},
   "outputs": [
    {
     "data": {
      "text/plain": [
       "['Python', 'is', 'great']"
      ]
     },
     "execution_count": 38,
     "metadata": {},
     "output_type": "execute_result"
    }
   ],
   "source": [
    "def words(string : str) -> list:\n",
    "    return string.split()\n",
    "\n",
    "words('Python is great')"
   ]
  },
  {
   "cell_type": "markdown",
   "id": "d00d6696",
   "metadata": {},
   "source": [
    "3. Write a function which accepts a String as a parameter and return the reversed words as a String.\n",
    "\n",
    "- input: \n",
    "`'Python is great'`\n",
    "\n",
    "- output:\n",
    "`great is python`"
   ]
  },
  {
   "cell_type": "code",
   "execution_count": 53,
   "id": "86de8511",
   "metadata": {},
   "outputs": [
    {
     "data": {
      "text/plain": [
       "['great', 'is', 'Python']"
      ]
     },
     "execution_count": 53,
     "metadata": {},
     "output_type": "execute_result"
    }
   ],
   "source": [
    "def reversWords(string: str) -> str:\n",
    "    return string.split()[::-1]\n",
    "\n",
    "reversWords('Python is great')"
   ]
  },
  {
   "cell_type": "markdown",
   "id": "9e2fc3fa",
   "metadata": {},
   "source": [
    "4. Ask 5 integers from user. Then ask a single character from user. Print those integers separated by that character entered by user.\n",
    "\n",
    "- input: \n",
    "\n",
    "`\n",
    "Enter Integer1\n",
    "Enter Integer3\n",
    "Enter Integer5\n",
    "Enter Integer7\n",
    "Enter Integer9\n",
    "Enter Char*`\n",
    "\n",
    "- output:\n",
    "\n",
    "\n",
    "`'1*3*5*7*9`"
   ]
  },
  {
   "cell_type": "code",
   "execution_count": 9,
   "id": "00a80afa",
   "metadata": {},
   "outputs": [
    {
     "name": "stdout",
     "output_type": "stream",
     "text": [
      "Enter Integer1\n",
      "Enter Integer3\n",
      "Enter Integer5\n",
      "Enter Integer7\n",
      "Enter Integer9\n",
      "Enter Char*\n"
     ]
    },
    {
     "data": {
      "text/plain": [
       "'1*3*5*7*9'"
      ]
     },
     "execution_count": 9,
     "metadata": {},
     "output_type": "execute_result"
    }
   ],
   "source": [
    "ls = []\n",
    "char_sp = \"\"\n",
    "for i in range(1,7):\n",
    "    if i <= 5:\n",
    "        inp = input('Enter Integer')\n",
    "        ls.append(inp)\n",
    "    else:\n",
    "        inp = input('Enter Char')\n",
    "        char_sp = str(inp)\n",
    "\n",
    "char_sp.join(ls)"
   ]
  },
  {
   "cell_type": "markdown",
   "id": "5accab7a",
   "metadata": {},
   "source": [
    "5. Write a function which accepts a String as a parameter and return each word being in reverse.\n",
    "\n",
    "- input: \n",
    "`'Python is great'`\n",
    "\n",
    "- output:\n",
    "`nohtyp si taerg`"
   ]
  },
  {
   "cell_type": "code",
   "execution_count": 18,
   "id": "8644c8c0",
   "metadata": {},
   "outputs": [],
   "source": [
    "def reversewords(string:str):\n",
    "    return \" \".join(ch[::-1] for ch in string.split())"
   ]
  },
  {
   "cell_type": "code",
   "execution_count": 21,
   "id": "dcfd39ae",
   "metadata": {},
   "outputs": [
    {
     "data": {
      "text/plain": [
       "'nohtyp si taerg'"
      ]
     },
     "execution_count": 21,
     "metadata": {},
     "output_type": "execute_result"
    }
   ],
   "source": [
    "reversewords('python is great')"
   ]
  },
  {
   "cell_type": "markdown",
   "id": "716dacef",
   "metadata": {},
   "source": [
    "6. Write a function which accepts a String and another string (which will be a single character) as a parameter. Join that string along with that character.\n",
    "\n",
    "- input: \n",
    "`'Python is great', '#'`\n",
    "\n",
    "- output:\n",
    "`'great#is#python'`"
   ]
  },
  {
   "cell_type": "code",
   "execution_count": 25,
   "id": "9b5136f4",
   "metadata": {},
   "outputs": [
    {
     "data": {
      "text/plain": [
       "'great#is#python'"
      ]
     },
     "execution_count": 25,
     "metadata": {},
     "output_type": "execute_result"
    }
   ],
   "source": [
    "def joinString(Str01:str, Str02:str):\n",
    "    \n",
    "    return Str02.join(Str01.split()[::-1])\n",
    "\n",
    "joinString('python is great', '#')"
   ]
  }
 ],
 "metadata": {
  "kernelspec": {
   "display_name": "Python 3 (ipykernel)",
   "language": "python",
   "name": "python3"
  },
  "language_info": {
   "codemirror_mode": {
    "name": "ipython",
    "version": 3
   },
   "file_extension": ".py",
   "mimetype": "text/x-python",
   "name": "python",
   "nbconvert_exporter": "python",
   "pygments_lexer": "ipython3",
   "version": "3.9.13"
  }
 },
 "nbformat": 4,
 "nbformat_minor": 5
}
