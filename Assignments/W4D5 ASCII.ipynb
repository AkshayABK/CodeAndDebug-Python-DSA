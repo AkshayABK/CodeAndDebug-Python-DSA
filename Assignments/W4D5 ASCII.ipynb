{
 "cells": [
  {
   "cell_type": "markdown",
   "id": "4408d97f",
   "metadata": {},
   "source": [
    "1. Write a function in Python that counts the number of digits in a given string using ASCII codes.\n",
    "        Input: \"Room 101\"\n",
    "        Output: 3"
   ]
  },
  {
   "cell_type": "code",
   "execution_count": 82,
   "id": "507cf0b2",
   "metadata": {},
   "outputs": [
    {
     "data": {
      "text/plain": [
       "3"
      ]
     },
     "execution_count": 82,
     "metadata": {},
     "output_type": "execute_result"
    }
   ],
   "source": [
    "def count_number(str):\n",
    "    count = 0\n",
    "    for char in str:\n",
    "        ascii_value = ord(char)\n",
    "        if ascii_value>= 48 and ascii_value<=57:\n",
    "            count+=1\n",
    "    return count\n",
    "\n",
    "count_number(\"Room 101\")\n",
    "\n"
   ]
  },
  {
   "cell_type": "markdown",
   "id": "7f2e0b57",
   "metadata": {},
   "source": [
    "4. Write a Python function that toggles the case of each letter in a string (converts uppercase to lowercase and vice versa) using ASCII values.\n",
    "        Input: \"Python3.8\"\n",
    "        Output: \"pYTHON3.8\""
   ]
  },
  {
   "cell_type": "code",
   "execution_count": 83,
   "id": "52099a74",
   "metadata": {},
   "outputs": [
    {
     "data": {
      "text/plain": [
       "'pYTHON3.8'"
      ]
     },
     "execution_count": 83,
     "metadata": {},
     "output_type": "execute_result"
    }
   ],
   "source": [
    "def toggling_the_case(str):\n",
    "    res = \"\"\n",
    "    for char in str:\n",
    "        ascii_value = ord(char)\n",
    "        if ascii_value>=65 and ascii_value<=90:\n",
    "            res+=chr(ascii_value+32)\n",
    "        elif ascii_value>=65+32 and ascii_value<=90+32:\n",
    "            res+=chr(ascii_value-32)\n",
    "        else:\n",
    "            res+=char\n",
    "    return res\n",
    "\n",
    "toggling_the_case(\"Python3.8\")"
   ]
  },
  {
   "cell_type": "markdown",
   "id": "3bd58133",
   "metadata": {},
   "source": [
    "5. Write a Python script that replaces each non-alphabetic character in a string with a space, using ASCII to determine character types.\n",
    "        Input: \"Hello, World!\"\n",
    "        Output: \"Hello World \""
   ]
  },
  {
   "cell_type": "code",
   "execution_count": 84,
   "id": "12d1a9bd",
   "metadata": {},
   "outputs": [
    {
     "data": {
      "text/plain": [
       "'Hello  World '"
      ]
     },
     "execution_count": 84,
     "metadata": {},
     "output_type": "execute_result"
    }
   ],
   "source": [
    "def replace_non_alphabetic(str):\n",
    "    res = \"\"\n",
    "    for char in str:\n",
    "        ascii_value = ord(char)\n",
    "        if ascii_value>=65 and ascii_value<=90:\n",
    "            res+=char\n",
    "        elif ascii_value>=(65+32) and ascii_value<=(90+32):\n",
    "            res+=char\n",
    "        else:\n",
    "            res+=\" \"\n",
    "            \n",
    "    return res\n",
    "\n",
    "replace_non_alphabetic(\"Hello, World!\")"
   ]
  },
  {
   "cell_type": "markdown",
   "id": "2f1e37e9",
   "metadata": {},
   "source": [
    "7. Implement a Python function that checks if a string contains anyspecial characters (non-alphanumeric) by using ASCII codes.\n",
    "        Input: \"password123!\"\n",
    "        Output: True"
   ]
  },
  {
   "cell_type": "code",
   "execution_count": 85,
   "id": "959890c9",
   "metadata": {},
   "outputs": [
    {
     "data": {
      "text/plain": [
       "True"
      ]
     },
     "execution_count": 85,
     "metadata": {},
     "output_type": "execute_result"
    }
   ],
   "source": [
    "def contains_special_characters(input_string):\n",
    "    for char in input_string:\n",
    "        ascii_value = ord(char)\n",
    "        if not (48 <= ascii_value <= 57 or 65 <= ascii_value <= 90 or 97 <= ascii_value <= 122):\n",
    "            return True\n",
    "    return False\n",
    "\n",
    "contains_special_characters(\"password123!\") \n"
   ]
  },
  {
   "cell_type": "markdown",
   "id": "a05eb176",
   "metadata": {},
   "source": [
    "9. Develop a Python program that finds the character with the maximum ASCII value in a given string.\n",
    "        Input: \"hello\"\n",
    "        Output: 'o' (highest ASCII character in the string)"
   ]
  },
  {
   "cell_type": "code",
   "execution_count": 86,
   "id": "b092bfc9",
   "metadata": {},
   "outputs": [
    {
     "data": {
      "text/plain": [
       "'o'"
      ]
     },
     "execution_count": 86,
     "metadata": {},
     "output_type": "execute_result"
    }
   ],
   "source": [
    "def max_ascii_char(str):\n",
    "    max_ascii_value = 0\n",
    "    max_ascii_char = ''\n",
    "    for char in str:\n",
    "        ascii_value = ord(char)\n",
    "        if ascii_value > max_ascii_value:\n",
    "            max_ascii_value = ascii_value\n",
    "            max_ascii_char = char\n",
    "            \n",
    "    return max_ascii_char\n",
    "\n",
    "\n",
    "max_ascii_char(\"hello\")"
   ]
  },
  {
   "cell_type": "code",
   "execution_count": null,
   "id": "14faa9ce",
   "metadata": {},
   "outputs": [],
   "source": []
  }
 ],
 "metadata": {
  "kernelspec": {
   "display_name": "Python 3 (ipykernel)",
   "language": "python",
   "name": "python3"
  },
  "language_info": {
   "codemirror_mode": {
    "name": "ipython",
    "version": 3
   },
   "file_extension": ".py",
   "mimetype": "text/x-python",
   "name": "python",
   "nbconvert_exporter": "python",
   "pygments_lexer": "ipython3",
   "version": "3.9.13"
  }
 },
 "nbformat": 4,
 "nbformat_minor": 5
}
