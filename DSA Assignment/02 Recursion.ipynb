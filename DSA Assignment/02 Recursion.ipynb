{
 "cells": [
  {
   "cell_type": "markdown",
   "id": "79a3073e",
   "metadata": {},
   "source": [
    "### Print 1 to N"
   ]
  },
  {
   "cell_type": "code",
   "execution_count": 1,
   "id": "102ec204",
   "metadata": {},
   "outputs": [
    {
     "name": "stdout",
     "output_type": "stream",
     "text": [
      "1 2 3 4 5 "
     ]
    }
   ],
   "source": [
    "def func_01(i,n):\n",
    "    if i>n:\n",
    "        return\n",
    "    print(i, end = ' ')\n",
    "    func_01(i+1,n)\n",
    " \n",
    "func_01(1,5)"
   ]
  },
  {
   "cell_type": "markdown",
   "id": "2129cfd7",
   "metadata": {},
   "source": [
    "### Print N to 1"
   ]
  },
  {
   "cell_type": "code",
   "execution_count": 26,
   "id": "b5f53ce5",
   "metadata": {},
   "outputs": [
    {
     "name": "stdout",
     "output_type": "stream",
     "text": [
      "5 4 3 2 1 "
     ]
    }
   ],
   "source": [
    "def func_02(n):\n",
    "    if n < 1:\n",
    "        return\n",
    "    print(n, end = ' ')\n",
    "    func_02(n-1)\n",
    "    \n",
    "func_02(5)"
   ]
  },
  {
   "cell_type": "markdown",
   "id": "e7583f6b",
   "metadata": {},
   "source": [
    "### Print 1 to N using Backtracking Method"
   ]
  },
  {
   "cell_type": "code",
   "execution_count": 27,
   "id": "322abd1f",
   "metadata": {},
   "outputs": [],
   "source": [
    "def backtrack(i,n):\n",
    "    if i<1:\n",
    "        return\n",
    "    backtrack(i-1,n)\n",
    "    print(i, end = ' ')"
   ]
  },
  {
   "cell_type": "code",
   "execution_count": 28,
   "id": "35291436",
   "metadata": {},
   "outputs": [
    {
     "name": "stdout",
     "output_type": "stream",
     "text": [
      "1 2 3 4 5 "
     ]
    }
   ],
   "source": [
    "backtrack(5,5)"
   ]
  },
  {
   "cell_type": "markdown",
   "id": "d889134f",
   "metadata": {},
   "source": [
    "### Find the Factorial of N"
   ]
  },
  {
   "cell_type": "code",
   "execution_count": 29,
   "id": "5a804f84",
   "metadata": {},
   "outputs": [],
   "source": [
    "def factorial(n:int)-> int:\n",
    "    if n == 0 or n == 1:\n",
    "        return 1\n",
    "    return n * factorial(n-1)"
   ]
  },
  {
   "cell_type": "code",
   "execution_count": 30,
   "id": "f8bb280f",
   "metadata": {},
   "outputs": [
    {
     "data": {
      "text/plain": [
       "6"
      ]
     },
     "execution_count": 30,
     "metadata": {},
     "output_type": "execute_result"
    }
   ],
   "source": [
    "factorial(3)"
   ]
  },
  {
   "cell_type": "markdown",
   "id": "66e0ca1b",
   "metadata": {},
   "source": [
    "### Sum of First N natural Numbers\n",
    "\n",
    "Input: ‘n’ = 3\n",
    "\n",
    "Output: 6\n",
    "\n",
    "Explanation: The sum of the first 3 natural numbers is 1 + 2 + 3, equal to 6."
   ]
  },
  {
   "cell_type": "code",
   "execution_count": 31,
   "id": "6982cf89",
   "metadata": {},
   "outputs": [],
   "source": [
    "def SumNaturalNum(n:int)->int:\n",
    "    if n == 0:\n",
    "        return 0\n",
    "    return n + SumNaturalNum(n-1)"
   ]
  },
  {
   "cell_type": "code",
   "execution_count": 32,
   "id": "4bab349a",
   "metadata": {},
   "outputs": [
    {
     "data": {
      "text/plain": [
       "6"
      ]
     },
     "execution_count": 32,
     "metadata": {},
     "output_type": "execute_result"
    }
   ],
   "source": [
    "SumNaturalNum(3)"
   ]
  },
  {
   "cell_type": "markdown",
   "id": "f2078c6c",
   "metadata": {},
   "source": [
    "### Reverse an Array without Loop\n",
    "Input: n = 6, arr = [5, 7, 8, 1, 6, 3]\n",
    "\n",
    "Output: [3, 6, 1, 8, 7, 5]\n",
    "\n",
    "Explanation: After reversing the array, it looks like this [3, 6, 1, 8, 7, 5]."
   ]
  },
  {
   "cell_type": "code",
   "execution_count": 33,
   "id": "c2a9a374",
   "metadata": {},
   "outputs": [],
   "source": [
    "from typing import *\n",
    "\n",
    "def Swipe(start:int, end:int, arr:List[int]):\n",
    "    if start>=end:\n",
    "        return \n",
    "    arr[start], arr[end] = arr[end], arr[start]\n",
    "    return Swipe(start+1, end-1, arr)\n",
    "\n",
    "def ReverseArrayEl(n:int, arr:List[int])->List[int]:\n",
    "    Swipe(0, n-1, arr)\n",
    "    return arr\n"
   ]
  },
  {
   "cell_type": "code",
   "execution_count": 34,
   "id": "b4e5e08f",
   "metadata": {},
   "outputs": [
    {
     "data": {
      "text/plain": [
       "[3, 6, 1, 8, 7, 5]"
      ]
     },
     "execution_count": 34,
     "metadata": {},
     "output_type": "execute_result"
    }
   ],
   "source": [
    "n = 6\n",
    "arr = [5, 7, 8, 1, 6, 3]\n",
    "\n",
    "ReverseArrayEl(n, arr)"
   ]
  },
  {
   "cell_type": "markdown",
   "id": "f2f90241",
   "metadata": {},
   "source": [
    "### Check Palindrome (recursive)\n",
    "\n",
    "Input 1:\n",
    "\n",
    "abbba\n",
    "\n",
    "Output 1:\n",
    "\n",
    "true"
   ]
  },
  {
   "cell_type": "code",
   "execution_count": 35,
   "id": "9cd01cf7",
   "metadata": {},
   "outputs": [],
   "source": [
    "def isPalindrome(string: str) -> bool:\n",
    "    return check(0,len(string)-1, string)\n",
    "\n",
    "def check(start:int, end:int, string:str):\n",
    "    if start==len(string)//2:\n",
    "        return True\n",
    "    if string[start] != string[end]:\n",
    "        return False\n",
    "    return check(start+1, end-1, string)"
   ]
  },
  {
   "cell_type": "code",
   "execution_count": 36,
   "id": "4da8ca7e",
   "metadata": {},
   "outputs": [
    {
     "name": "stdout",
     "output_type": "stream",
     "text": [
      "True\n",
      "True\n",
      "False\n"
     ]
    }
   ],
   "source": [
    "print(isPalindrome('abbba'))\n",
    "print(isPalindrome('malayalam'))\n",
    "print(isPalindrome('abc'))"
   ]
  },
  {
   "cell_type": "markdown",
   "id": "112a354d",
   "metadata": {},
   "source": [
    "### Fibonacci Number"
   ]
  },
  {
   "cell_type": "code",
   "execution_count": 6,
   "id": "5fa0eacc",
   "metadata": {},
   "outputs": [],
   "source": [
    "i = 0\n",
    "def fabonacci(n :int):\n",
    "    if n<= 1:\n",
    "        return n\n",
    "    return fabonacci(n-1)+fabonacci(n-2)"
   ]
  },
  {
   "cell_type": "code",
   "execution_count": 7,
   "id": "6b91b46f",
   "metadata": {},
   "outputs": [
    {
     "data": {
      "text/plain": [
       "5"
      ]
     },
     "execution_count": 7,
     "metadata": {},
     "output_type": "execute_result"
    }
   ],
   "source": [
    "fabonacci(5)"
   ]
  }
 ],
 "metadata": {
  "kernelspec": {
   "display_name": "Python 3 (ipykernel)",
   "language": "python",
   "name": "python3"
  },
  "language_info": {
   "codemirror_mode": {
    "name": "ipython",
    "version": 3
   },
   "file_extension": ".py",
   "mimetype": "text/x-python",
   "name": "python",
   "nbconvert_exporter": "python",
   "pygments_lexer": "ipython3",
   "version": "3.9.13"
  }
 },
 "nbformat": 4,
 "nbformat_minor": 5
}
