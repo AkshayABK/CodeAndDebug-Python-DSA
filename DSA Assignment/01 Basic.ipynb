{
 "cells": [
  {
   "cell_type": "markdown",
   "id": "429957ec",
   "metadata": {},
   "source": [
    "### Count Digits\n",
    "\n",
    "1. Brute : Time Complexity = O(log10 n) where n is the digit Space Complexity = O(1)\n",
    "2. Optimal :\n",
    "    Time Complexity = O(1)\n",
    "    Space Complexity = O(1)"
   ]
  },
  {
   "cell_type": "code",
   "execution_count": 31,
   "id": "60ed31d9",
   "metadata": {},
   "outputs": [
    {
     "data": {
      "text/plain": [
       "4"
      ]
     },
     "execution_count": 31,
     "metadata": {},
     "output_type": "execute_result"
    }
   ],
   "source": [
    "def count_dig(n:int)->int:\n",
    "    res = 0\n",
    "    while n>0:\n",
    "        res+=1\n",
    "        n = n//10\n",
    "    return res\n",
    "\n",
    "count_dig(1234)"
   ]
  },
  {
   "cell_type": "code",
   "execution_count": 32,
   "id": "15b5cad1",
   "metadata": {},
   "outputs": [
    {
     "data": {
      "text/plain": [
       "4"
      ]
     },
     "execution_count": 32,
     "metadata": {},
     "output_type": "execute_result"
    }
   ],
   "source": [
    "import math\n",
    "\n",
    "def count_digits(num: int) -> int:\n",
    "    return math.floor(math.log10(num) + 1)\n",
    "\n",
    "\n",
    "count_digits(1234)"
   ]
  },
  {
   "cell_type": "markdown",
   "id": "87266b7b",
   "metadata": {},
   "source": [
    "### Reverse Number\n",
    "\n",
    "Time Complexity = O(log10 n), n is the number\n",
    "Space Complexity = O(1)"
   ]
  },
  {
   "cell_type": "code",
   "execution_count": 33,
   "id": "604ff4b9",
   "metadata": {},
   "outputs": [],
   "source": [
    "def reverse_number(n:int)-> int:\n",
    "    rev = 0\n",
    "    while n>0:\n",
    "        last_digit = n%10\n",
    "        rev = rev * 10 + last_digit\n",
    "        n = n//10\n",
    "    return rev"
   ]
  },
  {
   "cell_type": "code",
   "execution_count": 34,
   "id": "ec769e07",
   "metadata": {},
   "outputs": [
    {
     "data": {
      "text/plain": [
       "321"
      ]
     },
     "execution_count": 34,
     "metadata": {},
     "output_type": "execute_result"
    }
   ],
   "source": [
    "reverse_number(123)"
   ]
  },
  {
   "cell_type": "markdown",
   "id": "5778acaa",
   "metadata": {},
   "source": [
    "### Print Divisors\n",
    "\n",
    "1. Brute : TC - O(n), where n is the number SC - O(d), where d is the number of divisors of the input integer n\n",
    "2. Optimal : TC - O(sqrt(n) + sqrt(n)*log(sqrt(n))), where n is the number SC - O(sqrt(n)), where n is the number"
   ]
  },
  {
   "cell_type": "code",
   "execution_count": 36,
   "id": "d5fff716",
   "metadata": {},
   "outputs": [],
   "source": [
    "from typing import *\n",
    "\n",
    "def printDivisors(n: int) -> List[int]:\n",
    "    result = []\n",
    "    for i in range(1, n + 1):\n",
    "        if n % i == 0:\n",
    "            result.append(i)\n",
    "    return result"
   ]
  },
  {
   "cell_type": "code",
   "execution_count": 37,
   "id": "a11dbd00",
   "metadata": {},
   "outputs": [
    {
     "data": {
      "text/plain": [
       "[1, 2, 5, 10]"
      ]
     },
     "execution_count": 37,
     "metadata": {},
     "output_type": "execute_result"
    }
   ],
   "source": [
    "printDivisors(10)"
   ]
  },
  {
   "cell_type": "code",
   "execution_count": 47,
   "id": "69c02781",
   "metadata": {},
   "outputs": [],
   "source": [
    "from math import sqrt\n",
    "from typing import List\n",
    "\n",
    "\n",
    "def printDivisors(n: int) -> List[int]:\n",
    "    result = []\n",
    "    for i in range(1, (int(n**0.5)) + 1):\n",
    "        if n % i == 0:\n",
    "            result.append(i)\n",
    "            if i != n // i:                \n",
    "                result.append(n // i)\n",
    "\n",
    "    result.sort()\n",
    "    return result"
   ]
  },
  {
   "cell_type": "code",
   "execution_count": 48,
   "id": "1c7b5c13",
   "metadata": {},
   "outputs": [
    {
     "data": {
      "text/plain": [
       "[1, 2, 4, 8]"
      ]
     },
     "execution_count": 48,
     "metadata": {},
     "output_type": "execute_result"
    }
   ],
   "source": [
    "printDivisors(8)"
   ]
  },
  {
   "cell_type": "code",
   "execution_count": 42,
   "id": "cc3ad884",
   "metadata": {},
   "outputs": [
    {
     "data": {
      "text/plain": [
       "[1, 2, 3, 3]"
      ]
     },
     "execution_count": 42,
     "metadata": {},
     "output_type": "execute_result"
    }
   ],
   "source": [
    "ls = [1,2,3]\n",
    "\n",
    "ls.append(3)\n",
    "\n",
    "ls"
   ]
  },
  {
   "cell_type": "code",
   "execution_count": null,
   "id": "f28e1908",
   "metadata": {},
   "outputs": [],
   "source": []
  }
 ],
 "metadata": {
  "kernelspec": {
   "display_name": "Python 3 (ipykernel)",
   "language": "python",
   "name": "python3"
  },
  "language_info": {
   "codemirror_mode": {
    "name": "ipython",
    "version": 3
   },
   "file_extension": ".py",
   "mimetype": "text/x-python",
   "name": "python",
   "nbconvert_exporter": "python",
   "pygments_lexer": "ipython3",
   "version": "3.9.13"
  }
 },
 "nbformat": 4,
 "nbformat_minor": 5
}
