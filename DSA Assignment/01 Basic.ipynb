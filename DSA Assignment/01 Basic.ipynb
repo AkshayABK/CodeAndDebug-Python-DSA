{
 "cells": [
  {
   "cell_type": "markdown",
   "id": "456674a3",
   "metadata": {},
   "source": [
    "### Count Digits\n",
    "\n",
    "1. Brute : Time Complexity = O(log10 n) where n is the digit Space Complexity = O(1)\n",
    "2. Optimal :\n",
    "    Time Complexity = O(1)\n",
    "    Space Complexity = O(1)"
   ]
  },
  {
   "cell_type": "code",
   "execution_count": 31,
   "id": "abd85530",
   "metadata": {},
   "outputs": [
    {
     "data": {
      "text/plain": [
       "4"
      ]
     },
     "execution_count": 31,
     "metadata": {},
     "output_type": "execute_result"
    }
   ],
   "source": [
    "def count_dig(n:int)->int:\n",
    "    res = 0\n",
    "    while n>0:\n",
    "        res+=1\n",
    "        n = n//10\n",
    "    return res\n",
    "\n",
    "count_dig(1234)"
   ]
  },
  {
   "cell_type": "code",
   "execution_count": 32,
   "id": "52b3b614",
   "metadata": {},
   "outputs": [
    {
     "data": {
      "text/plain": [
       "4"
      ]
     },
     "execution_count": 32,
     "metadata": {},
     "output_type": "execute_result"
    }
   ],
   "source": [
    "import math\n",
    "\n",
    "def count_digits(num: int) -> int:\n",
    "    return math.floor(math.log10(num) + 1)\n",
    "\n",
    "\n",
    "count_digits(1234)"
   ]
  },
  {
   "cell_type": "markdown",
   "id": "1a3cb14c",
   "metadata": {},
   "source": [
    "### Reverse Number\n",
    "\n",
    "Time Complexity = O(log10 n), n is the number\n",
    "Space Complexity = O(1)"
   ]
  },
  {
   "cell_type": "code",
   "execution_count": 33,
   "id": "43db894e",
   "metadata": {},
   "outputs": [],
   "source": [
    "def reverse_number(n:int)-> int:\n",
    "    rev = 0\n",
    "    while n>0:\n",
    "        last_digit = n%10\n",
    "        rev = rev * 10 + last_digit\n",
    "        n = n//10\n",
    "    return rev"
   ]
  },
  {
   "cell_type": "code",
   "execution_count": 34,
   "id": "6cd96139",
   "metadata": {},
   "outputs": [
    {
     "data": {
      "text/plain": [
       "321"
      ]
     },
     "execution_count": 34,
     "metadata": {},
     "output_type": "execute_result"
    }
   ],
   "source": [
    "reverse_number(123)"
   ]
  },
  {
   "cell_type": "markdown",
   "id": "1be79e2e",
   "metadata": {},
   "source": [
    "### Print Divisors\n",
    "\n",
    "1. Brute : TC - O(n), where n is the number SC - O(d), where d is the number of divisors of the input integer n\n",
    "2. Optimal : TC - O(sqrt(n) + sqrt(n)*log(sqrt(n))), where n is the number SC - O(sqrt(n)), where n is the number"
   ]
  },
  {
   "cell_type": "code",
   "execution_count": 36,
   "id": "c93d00da",
   "metadata": {},
   "outputs": [],
   "source": [
    "from typing import *\n",
    "\n",
    "def printDivisors(n: int) -> List[int]:\n",
    "    result = []\n",
    "    for i in range(1, n + 1):\n",
    "        if n % i == 0:\n",
    "            result.append(i)\n",
    "    return result"
   ]
  },
  {
   "cell_type": "code",
   "execution_count": 37,
   "id": "6a88917a",
   "metadata": {},
   "outputs": [
    {
     "data": {
      "text/plain": [
       "[1, 2, 5, 10]"
      ]
     },
     "execution_count": 37,
     "metadata": {},
     "output_type": "execute_result"
    }
   ],
   "source": [
    "printDivisors(10)"
   ]
  },
  {
   "cell_type": "code",
   "execution_count": 47,
   "id": "10ae07cc",
   "metadata": {},
   "outputs": [],
   "source": [
    "from math import sqrt\n",
    "from typing import List\n",
    "\n",
    "\n",
    "def printDivisors(n: int) -> List[int]:\n",
    "    result = []\n",
    "    for i in range(1, (int(n**0.5)) + 1):\n",
    "        if n % i == 0:\n",
    "            result.append(i)\n",
    "            if i != n // i:                \n",
    "                result.append(n // i)\n",
    "\n",
    "    result.sort()\n",
    "    return result"
   ]
  },
  {
   "cell_type": "code",
   "execution_count": 48,
   "id": "fb1ec0fa",
   "metadata": {},
   "outputs": [
    {
     "data": {
      "text/plain": [
       "[1, 2, 4, 8]"
      ]
     },
     "execution_count": 48,
     "metadata": {},
     "output_type": "execute_result"
    }
   ],
   "source": [
    "printDivisors(8)"
   ]
  },
  {
   "cell_type": "markdown",
   "id": "3df5f15e",
   "metadata": {},
   "source": [
    "### Check Prime\n",
    "TC o(sqrt(n)) SC o(1)"
   ]
  },
  {
   "cell_type": "code",
   "execution_count": 50,
   "id": "61ca403d",
   "metadata": {},
   "outputs": [],
   "source": [
    "from math import sqrt\n",
    "\n",
    "def checkPrime(num: int) -> int:\n",
    "    if num == 1:\n",
    "        return False\n",
    "    for i in range(2, int(sqrt(num)) + 1):\n",
    "        if num % i == 0:\n",
    "            return False\n",
    "    return True"
   ]
  },
  {
   "cell_type": "code",
   "execution_count": 51,
   "id": "46eeaf00",
   "metadata": {},
   "outputs": [
    {
     "name": "stdout",
     "output_type": "stream",
     "text": [
      "True\n",
      "True\n",
      "False\n"
     ]
    }
   ],
   "source": [
    "print(checkPrime(2))\n",
    "print(checkPrime(3))\n",
    "print(checkPrime(10))"
   ]
  },
  {
   "cell_type": "markdown",
   "id": "80148df5",
   "metadata": {},
   "source": [
    "### Check Palindrome"
   ]
  },
  {
   "cell_type": "code",
   "execution_count": 53,
   "id": "19463283",
   "metadata": {},
   "outputs": [
    {
     "data": {
      "text/plain": [
       "False"
      ]
     },
     "execution_count": 53,
     "metadata": {},
     "output_type": "execute_result"
    }
   ],
   "source": [
    "def isPalindrome(x: int) -> bool:\n",
    "    if x < 0:\n",
    "        return False\n",
    "    num = x\n",
    "    reverse_number = 0\n",
    "    while num > 0:\n",
    "        reverse_number = (reverse_number * 10) + num % 10\n",
    "        num = num // 10\n",
    "    return reverse_number == x"
   ]
  },
  {
   "cell_type": "code",
   "execution_count": 55,
   "id": "355721e8",
   "metadata": {},
   "outputs": [
    {
     "name": "stdout",
     "output_type": "stream",
     "text": [
      "False\n",
      "True\n"
     ]
    }
   ],
   "source": [
    "print(isPalindrome(122))\n",
    "print(isPalindrome(121))"
   ]
  }
 ],
 "metadata": {
  "kernelspec": {
   "display_name": "Python 3 (ipykernel)",
   "language": "python",
   "name": "python3"
  },
  "language_info": {
   "codemirror_mode": {
    "name": "ipython",
    "version": 3
   },
   "file_extension": ".py",
   "mimetype": "text/x-python",
   "name": "python",
   "nbconvert_exporter": "python",
   "pygments_lexer": "ipython3",
   "version": "3.9.13"
  }
 },
 "nbformat": 4,
 "nbformat_minor": 5
}
